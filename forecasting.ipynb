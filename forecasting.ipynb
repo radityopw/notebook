{
    "metadata": {
        "kernelspec": {
            "name": "SQL",
            "display_name": "SQL",
            "language": "sql"
        },
        "language_info": {
            "name": "sql",
            "version": ""
        }
    },
    "nbformat_minor": 2,
    "nbformat": 4,
    "cells": [
        {
            "cell_type": "markdown",
            "source": [
                "**Ini catatan untuk belajar forecasting di SQLServer**"
            ],
            "metadata": {
                "azdata_cell_guid": "18fc4a67-422e-4899-a7ba-974acc6d9326"
            },
            "attachments": {}
        },
        {
            "cell_type": "markdown",
            "source": [
                "buat database jika tidak ada"
            ],
            "metadata": {
                "azdata_cell_guid": "ddd6209f-b765-4997-98e3-43d97d5982cd"
            },
            "attachments": {}
        },
        {
            "cell_type": "code",
            "source": [
                "\r\n",
                "USE master\r\n",
                "GO\r\n",
                "-- Create the new database if it does not exist already\r\n",
                "IF NOT EXISTS (\r\n",
                "    SELECT [name]\r\n",
                "        FROM sys.databases\r\n",
                "        WHERE [name] = N'belajar_statistik'\r\n",
                ")\r\n",
                "CREATE DATABASE belajar_statistik\r\n",
                "GO\r\n",
                "\r\n",
                "Use belajar_statistik\r\n",
                "go"
            ],
            "metadata": {
                "azdata_cell_guid": "3273a33f-a92f-4a52-b980-604b667014ac"
            },
            "outputs": [
                {
                    "output_type": "display_data",
                    "data": {
                        "text/html": "Commands completed successfully."
                    },
                    "metadata": {}
                },
                {
                    "output_type": "display_data",
                    "data": {
                        "text/html": "Commands completed successfully."
                    },
                    "metadata": {}
                },
                {
                    "output_type": "display_data",
                    "data": {
                        "text/html": "Commands completed successfully."
                    },
                    "metadata": {}
                },
                {
                    "output_type": "display_data",
                    "data": {
                        "text/html": "Total execution time: 00:00:00.240"
                    },
                    "metadata": {}
                }
            ],
            "execution_count": 1
        },
        {
            "cell_type": "markdown",
            "source": [
                "buat table data dan isinya"
            ],
            "metadata": {
                "azdata_cell_guid": "c6d7b78a-3728-497e-9e96-8637458f512f"
            },
            "attachments": {}
        },
        {
            "cell_type": "code",
            "source": [
                "IF OBJECT_ID('[dbo].[data_timeseries]', 'U') IS NOT NULL\r\n",
                "DROP TABLE [dbo].[data_timeseries]\r\n",
                "GO\r\n",
                "-- Create the table in the specified schema\r\n",
                "CREATE TABLE [dbo].[data_timeseries]\r\n",
                "(\r\n",
                "    [Id] INT NOT NULL PRIMARY KEY, -- Primary Key column\r\n",
                "    [data] INT NOT NULL\r\n",
                ");\r\n",
                "GO"
            ],
            "metadata": {
                "azdata_cell_guid": "75d35a86-156a-4f24-8be8-917087130eee"
            },
            "outputs": [
                {
                    "output_type": "display_data",
                    "data": {
                        "text/html": "Commands completed successfully."
                    },
                    "metadata": {}
                },
                {
                    "output_type": "display_data",
                    "data": {
                        "text/html": "Commands completed successfully."
                    },
                    "metadata": {}
                },
                {
                    "output_type": "display_data",
                    "data": {
                        "text/html": "Total execution time: 00:00:00.026"
                    },
                    "metadata": {}
                }
            ],
            "execution_count": 2
        },
        {
            "cell_type": "code",
            "source": [
                "INSERT INTO [dbo].[data_timeseries](ID,data) values (1,3);\r\n",
                "INSERT INTO [dbo].[data_timeseries](ID,data) values (2,10);\r\n",
                "INSERT INTO [dbo].[data_timeseries](ID,data) values (3,15);\r\n",
                "INSERT INTO [dbo].[data_timeseries](ID,data) values (4,20);\r\n",
                "INSERT INTO [dbo].[data_timeseries](ID,data) values (5,3);\r\n",
                "INSERT INTO [dbo].[data_timeseries](ID,data) values (6,5);\r\n",
                "INSERT INTO [dbo].[data_timeseries](ID,data) values (7,10);"
            ],
            "metadata": {
                "azdata_cell_guid": "1a88f90e-8b6e-447d-91d2-98edb01b7fa0"
            },
            "outputs": [
                {
                    "output_type": "display_data",
                    "data": {
                        "text/html": "(1 row affected)"
                    },
                    "metadata": {}
                },
                {
                    "output_type": "display_data",
                    "data": {
                        "text/html": "(1 row affected)"
                    },
                    "metadata": {}
                },
                {
                    "output_type": "display_data",
                    "data": {
                        "text/html": "(1 row affected)"
                    },
                    "metadata": {}
                },
                {
                    "output_type": "display_data",
                    "data": {
                        "text/html": "(1 row affected)"
                    },
                    "metadata": {}
                },
                {
                    "output_type": "display_data",
                    "data": {
                        "text/html": "(1 row affected)"
                    },
                    "metadata": {}
                },
                {
                    "output_type": "display_data",
                    "data": {
                        "text/html": "(1 row affected)"
                    },
                    "metadata": {}
                },
                {
                    "output_type": "display_data",
                    "data": {
                        "text/html": "(1 row affected)"
                    },
                    "metadata": {}
                },
                {
                    "output_type": "display_data",
                    "data": {
                        "text/html": "Total execution time: 00:00:00.024"
                    },
                    "metadata": {}
                }
            ],
            "execution_count": 3
        },
        {
            "cell_type": "code",
            "source": [
                "SELECT *\r\n",
                "FROM data_timeseries;"
            ],
            "metadata": {
                "azdata_cell_guid": "6acf423a-2640-4e98-87c5-6e2bc44e6b67"
            },
            "outputs": [
                {
                    "output_type": "display_data",
                    "data": {
                        "text/html": "(7 rows affected)"
                    },
                    "metadata": {}
                },
                {
                    "output_type": "display_data",
                    "data": {
                        "text/html": "Total execution time: 00:00:00.128"
                    },
                    "metadata": {}
                },
                {
                    "output_type": "execute_result",
                    "metadata": {},
                    "execution_count": 4,
                    "data": {
                        "application/vnd.dataresource+json": {
                            "schema": {
                                "fields": [
                                    {
                                        "name": "Id"
                                    },
                                    {
                                        "name": "data"
                                    }
                                ]
                            },
                            "data": [
                                {
                                    "0": "1",
                                    "1": "3"
                                },
                                {
                                    "0": "2",
                                    "1": "10"
                                },
                                {
                                    "0": "3",
                                    "1": "15"
                                },
                                {
                                    "0": "4",
                                    "1": "20"
                                },
                                {
                                    "0": "5",
                                    "1": "3"
                                },
                                {
                                    "0": "6",
                                    "1": "5"
                                },
                                {
                                    "0": "7",
                                    "1": "10"
                                }
                            ]
                        },
                        "text/html": [
                            "<table>",
                            "<tr><th>Id</th><th>data</th></tr>",
                            "<tr><td>1</td><td>3</td></tr>",
                            "<tr><td>2</td><td>10</td></tr>",
                            "<tr><td>3</td><td>15</td></tr>",
                            "<tr><td>4</td><td>20</td></tr>",
                            "<tr><td>5</td><td>3</td></tr>",
                            "<tr><td>6</td><td>5</td></tr>",
                            "<tr><td>7</td><td>10</td></tr>",
                            "</table>"
                        ]
                    }
                }
            ],
            "execution_count": 4
        },
        {
            "cell_type": "markdown",
            "source": [
                "**Naive method**,  \n",
                "jika misalnya kita membuat model   \n",
                "data peramalan kita adalah data observasi terakir + 1"
            ],
            "metadata": {
                "azdata_cell_guid": "8f56f25e-f2f1-45d4-8443-88b4902dc3ae"
            },
            "attachments": {}
        },
        {
            "cell_type": "code",
            "source": [
                "-- dapatkan data terakir \r\n",
                "\r\n",
                "SELECT top 1 *\r\n",
                "FROM data_timeseries \r\n",
                "ORDER BY id DESC;"
            ],
            "metadata": {
                "azdata_cell_guid": "65180daa-d7fe-442c-8859-fbb778c19488"
            },
            "outputs": [
                {
                    "output_type": "display_data",
                    "data": {
                        "text/html": "(1 row affected)"
                    },
                    "metadata": {}
                },
                {
                    "output_type": "display_data",
                    "data": {
                        "text/html": "Total execution time: 00:00:00.302"
                    },
                    "metadata": {}
                },
                {
                    "output_type": "execute_result",
                    "metadata": {},
                    "execution_count": 5,
                    "data": {
                        "application/vnd.dataresource+json": {
                            "schema": {
                                "fields": [
                                    {
                                        "name": "Id"
                                    },
                                    {
                                        "name": "data"
                                    }
                                ]
                            },
                            "data": [
                                {
                                    "0": "7",
                                    "1": "10"
                                }
                            ]
                        },
                        "text/html": [
                            "<table>",
                            "<tr><th>Id</th><th>data</th></tr>",
                            "<tr><td>7</td><td>10</td></tr>",
                            "</table>"
                        ]
                    }
                }
            ],
            "execution_count": 5
        },
        {
            "cell_type": "code",
            "source": [
                "-- tambahkan data terakhir  + 1\r\n",
                "SELECT data + 1 as hasil_forecast\r\n",
                "FROM (\r\n",
                "    SELECT top 1 *\r\n",
                "    FROM data_timeseries \r\n",
                "    ORDER BY id DESC\r\n",
                ") a;"
            ],
            "metadata": {
                "azdata_cell_guid": "7cc4ed8b-c2b4-4d2e-9a3e-fb8d78bd5381"
            },
            "outputs": [
                {
                    "output_type": "display_data",
                    "data": {
                        "text/html": "(1 row affected)"
                    },
                    "metadata": {}
                },
                {
                    "output_type": "display_data",
                    "data": {
                        "text/html": "Total execution time: 00:00:00.020"
                    },
                    "metadata": {}
                },
                {
                    "output_type": "execute_result",
                    "metadata": {},
                    "execution_count": 6,
                    "data": {
                        "application/vnd.dataresource+json": {
                            "schema": {
                                "fields": [
                                    {
                                        "name": "hasil_forecast"
                                    }
                                ]
                            },
                            "data": [
                                {
                                    "0": "11"
                                }
                            ]
                        },
                        "text/html": [
                            "<table>",
                            "<tr><th>hasil_forecast</th></tr>",
                            "<tr><td>11</td></tr>",
                            "</table>"
                        ]
                    }
                }
            ],
            "execution_count": 6
        },
        {
            "cell_type": "markdown",
            "source": [
                "**Metode Rata2**\n",
                "\n",
                "  \n",
                "\n",
                "nilai forecast bisa juga didapatkan dari melakukan rata2 dari data"
            ],
            "metadata": {
                "azdata_cell_guid": "63d0ad7c-f23c-4fc1-9da8-09f2779da7ba"
            },
            "attachments": {}
        },
        {
            "cell_type": "code",
            "source": [
                "SELECT avg(data) as hasil_forecast\r\n",
                "from data_timeseries;"
            ],
            "metadata": {
                "azdata_cell_guid": "c4bfa99c-e786-4f34-9d19-ed08472e16f6"
            },
            "outputs": [
                {
                    "output_type": "display_data",
                    "data": {
                        "text/html": "(1 row affected)"
                    },
                    "metadata": {}
                },
                {
                    "output_type": "display_data",
                    "data": {
                        "text/html": "Total execution time: 00:00:00.016"
                    },
                    "metadata": {}
                },
                {
                    "output_type": "execute_result",
                    "metadata": {},
                    "execution_count": 7,
                    "data": {
                        "application/vnd.dataresource+json": {
                            "schema": {
                                "fields": [
                                    {
                                        "name": "hasil_forecast"
                                    }
                                ]
                            },
                            "data": [
                                {
                                    "0": "9"
                                }
                            ]
                        },
                        "text/html": [
                            "<table>",
                            "<tr><th>hasil_forecast</th></tr>",
                            "<tr><td>9</td></tr>",
                            "</table>"
                        ]
                    }
                }
            ],
            "execution_count": 7
        },
        {
            "cell_type": "markdown",
            "source": [
                "**Metode moving average** \n",
                "\n",
                "  \n",
                "\n",
                "moving average seperti merata2 data namun hanya sebagian data, bisanya beberapa data terakhir"
            ],
            "metadata": {
                "azdata_cell_guid": "8dc50ea6-4921-4df7-98c9-1532f4a30908"
            },
            "attachments": {}
        },
        {
            "cell_type": "code",
            "source": [
                "-- misalnya dengan timewindow 5, maka kita akan merata2 data 5 terakhir \r\n",
                "\r\n",
                "-- dapatkan 5 data terakhir \r\n",
                "\r\n",
                "SELECT top 5 *\r\n",
                "FROM data_timeseries \r\n",
                "ORDER BY ID DESC ;"
            ],
            "metadata": {
                "azdata_cell_guid": "b58a12f4-d792-445d-a13e-a2d0c043f0cb"
            },
            "outputs": [
                {
                    "output_type": "display_data",
                    "data": {
                        "text/html": "(5 rows affected)"
                    },
                    "metadata": {}
                },
                {
                    "output_type": "display_data",
                    "data": {
                        "text/html": "Total execution time: 00:00:00.014"
                    },
                    "metadata": {}
                },
                {
                    "output_type": "execute_result",
                    "metadata": {},
                    "execution_count": 8,
                    "data": {
                        "application/vnd.dataresource+json": {
                            "schema": {
                                "fields": [
                                    {
                                        "name": "Id"
                                    },
                                    {
                                        "name": "data"
                                    }
                                ]
                            },
                            "data": [
                                {
                                    "0": "7",
                                    "1": "10"
                                },
                                {
                                    "0": "6",
                                    "1": "5"
                                },
                                {
                                    "0": "5",
                                    "1": "3"
                                },
                                {
                                    "0": "4",
                                    "1": "20"
                                },
                                {
                                    "0": "3",
                                    "1": "15"
                                }
                            ]
                        },
                        "text/html": [
                            "<table>",
                            "<tr><th>Id</th><th>data</th></tr>",
                            "<tr><td>7</td><td>10</td></tr>",
                            "<tr><td>6</td><td>5</td></tr>",
                            "<tr><td>5</td><td>3</td></tr>",
                            "<tr><td>4</td><td>20</td></tr>",
                            "<tr><td>3</td><td>15</td></tr>",
                            "</table>"
                        ]
                    }
                }
            ],
            "execution_count": 8
        },
        {
            "cell_type": "code",
            "source": [
                "-- hitunh rata2 5 data terakhir \r\n",
                "SELECT avg(data) as hasil_forecast\r\n",
                "FROM (\r\n",
                "    SELECT top 5 *\r\n",
                "    FROM data_timeseries \r\n",
                "    ORDER BY ID DESC \r\n",
                ") a;"
            ],
            "metadata": {
                "azdata_cell_guid": "e51361f0-c76d-49e5-a678-f9d35272f829"
            },
            "outputs": [
                {
                    "output_type": "display_data",
                    "data": {
                        "text/html": "(1 row affected)"
                    },
                    "metadata": {}
                },
                {
                    "output_type": "display_data",
                    "data": {
                        "text/html": "Total execution time: 00:00:00.012"
                    },
                    "metadata": {}
                },
                {
                    "output_type": "execute_result",
                    "metadata": {},
                    "execution_count": 9,
                    "data": {
                        "application/vnd.dataresource+json": {
                            "schema": {
                                "fields": [
                                    {
                                        "name": "hasil_forecast"
                                    }
                                ]
                            },
                            "data": [
                                {
                                    "0": "10"
                                }
                            ]
                        },
                        "text/html": [
                            "<table>",
                            "<tr><th>hasil_forecast</th></tr>",
                            "<tr><td>10</td></tr>",
                            "</table>"
                        ]
                    }
                }
            ],
            "execution_count": 9
        },
        {
            "cell_type": "markdown",
            "source": [
                "**Metode Weighted Moving Average**\n",
                "\n",
                "seperti moving average, namun ada pembobotan di tiap point data , total bobot haruslah 1"
            ],
            "metadata": {
                "azdata_cell_guid": "1e38d1a1-23c5-4037-a012-727b5225cc26"
            },
            "attachments": {}
        },
        {
            "cell_type": "code",
            "source": [
                "-- buat data bobot \r\n",
                ";WITH bobot as (\r\n",
                "    SELECT 1 as point_ke, 0.25 as bobot \r\n",
                "    UNION ALL \r\n",
                "    SELECT 2 as point_ke, 0.25 as bobot\r\n",
                "    UNION ALL\r\n",
                "    SELECT 3 as point_ke, 0.25 as bobot\r\n",
                "    UNION ALL \r\n",
                "    SELECT 4 as point_ke, 0.20 as bobot\r\n",
                "    UNION ALL \r\n",
                "    SELECT 5 as point_ke, 0.05 as bobot\r\n",
                ") \r\n",
                "SELECT * FROM bobot;"
            ],
            "metadata": {
                "azdata_cell_guid": "4e0ae0c2-3961-4d50-9f4f-2f6b17ea7f7e"
            },
            "outputs": [
                {
                    "output_type": "display_data",
                    "data": {
                        "text/html": "(5 rows affected)"
                    },
                    "metadata": {}
                },
                {
                    "output_type": "display_data",
                    "data": {
                        "text/html": "Total execution time: 00:00:00.037"
                    },
                    "metadata": {}
                },
                {
                    "output_type": "execute_result",
                    "metadata": {},
                    "execution_count": 10,
                    "data": {
                        "application/vnd.dataresource+json": {
                            "schema": {
                                "fields": [
                                    {
                                        "name": "point_ke"
                                    },
                                    {
                                        "name": "bobot"
                                    }
                                ]
                            },
                            "data": [
                                {
                                    "0": "1",
                                    "1": "0.25"
                                },
                                {
                                    "0": "2",
                                    "1": "0.25"
                                },
                                {
                                    "0": "3",
                                    "1": "0.25"
                                },
                                {
                                    "0": "4",
                                    "1": "0.20"
                                },
                                {
                                    "0": "5",
                                    "1": "0.05"
                                }
                            ]
                        },
                        "text/html": [
                            "<table>",
                            "<tr><th>point_ke</th><th>bobot</th></tr>",
                            "<tr><td>1</td><td>0.25</td></tr>",
                            "<tr><td>2</td><td>0.25</td></tr>",
                            "<tr><td>3</td><td>0.25</td></tr>",
                            "<tr><td>4</td><td>0.20</td></tr>",
                            "<tr><td>5</td><td>0.05</td></tr>",
                            "</table>"
                        ]
                    }
                }
            ],
            "execution_count": 10
        },
        {
            "cell_type": "code",
            "source": [
                "-- memastikan bobotnya bertotal 1 \r\n",
                "\r\n",
                ";WITH bobot as (\r\n",
                "    SELECT 1 as point_ke, 0.25 as bobot \r\n",
                "    UNION ALL \r\n",
                "    SELECT 2 as point_ke, 0.25 as bobot\r\n",
                "    UNION ALL\r\n",
                "    SELECT 3 as point_ke, 0.25 as bobot\r\n",
                "    UNION ALL \r\n",
                "    SELECT 4 as point_ke, 0.20 as bobot\r\n",
                "    UNION ALL \r\n",
                "    SELECT 5 as point_ke, 0.05 as bobot\r\n",
                ") \r\n",
                "SELECT sum(bobot) as total_bobot FROM bobot;"
            ],
            "metadata": {
                "azdata_cell_guid": "cf705659-e072-4c55-8377-a85711195c3e"
            },
            "outputs": [
                {
                    "output_type": "display_data",
                    "data": {
                        "text/html": "(1 row affected)"
                    },
                    "metadata": {}
                },
                {
                    "output_type": "display_data",
                    "data": {
                        "text/html": "Total execution time: 00:00:02.041"
                    },
                    "metadata": {}
                },
                {
                    "output_type": "execute_result",
                    "metadata": {},
                    "execution_count": 11,
                    "data": {
                        "application/vnd.dataresource+json": {
                            "schema": {
                                "fields": [
                                    {
                                        "name": "total_bobot"
                                    }
                                ]
                            },
                            "data": [
                                {
                                    "0": "1.00"
                                }
                            ]
                        },
                        "text/html": [
                            "<table>",
                            "<tr><th>total_bobot</th></tr>",
                            "<tr><td>1.00</td></tr>",
                            "</table>"
                        ]
                    }
                }
            ],
            "execution_count": 11
        },
        {
            "cell_type": "code",
            "source": [
                "-- ambil 5 data terakhir dan sematkan id dengan urutan yang terbaru duluan \r\n",
                "SELECT *\r\n",
                "FROM (\r\n",
                "    SELECT ROW_NUMBER() over(order by ID desc) as rn,data\r\n",
                "    FROM data_timeseries\r\n",
                ") a\r\n",
                "WHERE rn <= 5;"
            ],
            "metadata": {
                "azdata_cell_guid": "3cddd292-a6a0-492e-b7a9-462aaf2537b9"
            },
            "outputs": [
                {
                    "output_type": "display_data",
                    "data": {
                        "text/html": "(5 rows affected)"
                    },
                    "metadata": {}
                },
                {
                    "output_type": "display_data",
                    "data": {
                        "text/html": "Total execution time: 00:00:00.012"
                    },
                    "metadata": {}
                },
                {
                    "output_type": "execute_result",
                    "metadata": {},
                    "execution_count": 12,
                    "data": {
                        "application/vnd.dataresource+json": {
                            "schema": {
                                "fields": [
                                    {
                                        "name": "rn"
                                    },
                                    {
                                        "name": "data"
                                    }
                                ]
                            },
                            "data": [
                                {
                                    "0": "1",
                                    "1": "10"
                                },
                                {
                                    "0": "2",
                                    "1": "5"
                                },
                                {
                                    "0": "3",
                                    "1": "3"
                                },
                                {
                                    "0": "4",
                                    "1": "20"
                                },
                                {
                                    "0": "5",
                                    "1": "15"
                                }
                            ]
                        },
                        "text/html": [
                            "<table>",
                            "<tr><th>rn</th><th>data</th></tr>",
                            "<tr><td>1</td><td>10</td></tr>",
                            "<tr><td>2</td><td>5</td></tr>",
                            "<tr><td>3</td><td>3</td></tr>",
                            "<tr><td>4</td><td>20</td></tr>",
                            "<tr><td>5</td><td>15</td></tr>",
                            "</table>"
                        ]
                    }
                }
            ],
            "execution_count": 12
        },
        {
            "cell_type": "code",
            "source": [
                "-- gabungkan bobot dan data  serta diproses \r\n",
                ";WITH bobot as (\r\n",
                "    SELECT 1 as point_ke, 0.25 as bobot \r\n",
                "    UNION ALL \r\n",
                "    SELECT 2 as point_ke, 0.25 as bobot\r\n",
                "    UNION ALL\r\n",
                "    SELECT 3 as point_ke, 0.25 as bobot\r\n",
                "    UNION ALL \r\n",
                "    SELECT 4 as point_ke, 0.20 as bobot\r\n",
                "    UNION ALL \r\n",
                "    SELECT 5 as point_ke, 0.05 as bobot\r\n",
                "), data_final as (\r\n",
                "\r\n",
                "    SELECT *\r\n",
                "    FROM (\r\n",
                "        SELECT ROW_NUMBER() over(order by ID desc) as rn,data\r\n",
                "        FROM data_timeseries\r\n",
                "    ) a\r\n",
                "    WHERE rn <= 5\r\n",
                ")\r\n",
                "SELECT a.rn,a.data,b.bobot,a.data * b.bobot as nilai_terbobot\r\n",
                "FROM data_final a \r\n",
                "JOIN bobot b ON a.rn = b.point_ke"
            ],
            "metadata": {
                "azdata_cell_guid": "e65b9c5e-4c19-4a7a-b647-370a2eebfb04"
            },
            "outputs": [
                {
                    "output_type": "display_data",
                    "data": {
                        "text/html": "(5 rows affected)"
                    },
                    "metadata": {}
                },
                {
                    "output_type": "display_data",
                    "data": {
                        "text/html": "Total execution time: 00:00:00.014"
                    },
                    "metadata": {}
                },
                {
                    "output_type": "execute_result",
                    "metadata": {},
                    "execution_count": 13,
                    "data": {
                        "application/vnd.dataresource+json": {
                            "schema": {
                                "fields": [
                                    {
                                        "name": "rn"
                                    },
                                    {
                                        "name": "data"
                                    },
                                    {
                                        "name": "bobot"
                                    },
                                    {
                                        "name": "nilai_terbobot"
                                    }
                                ]
                            },
                            "data": [
                                {
                                    "0": "1",
                                    "1": "10",
                                    "2": "0.25",
                                    "3": "2.50"
                                },
                                {
                                    "0": "2",
                                    "1": "5",
                                    "2": "0.25",
                                    "3": "1.25"
                                },
                                {
                                    "0": "3",
                                    "1": "3",
                                    "2": "0.25",
                                    "3": "0.75"
                                },
                                {
                                    "0": "4",
                                    "1": "20",
                                    "2": "0.20",
                                    "3": "4.00"
                                },
                                {
                                    "0": "5",
                                    "1": "15",
                                    "2": "0.05",
                                    "3": "0.75"
                                }
                            ]
                        },
                        "text/html": [
                            "<table>",
                            "<tr><th>rn</th><th>data</th><th>bobot</th><th>nilai_terbobot</th></tr>",
                            "<tr><td>1</td><td>10</td><td>0.25</td><td>2.50</td></tr>",
                            "<tr><td>2</td><td>5</td><td>0.25</td><td>1.25</td></tr>",
                            "<tr><td>3</td><td>3</td><td>0.25</td><td>0.75</td></tr>",
                            "<tr><td>4</td><td>20</td><td>0.20</td><td>4.00</td></tr>",
                            "<tr><td>5</td><td>15</td><td>0.05</td><td>0.75</td></tr>",
                            "</table>"
                        ]
                    }
                }
            ],
            "execution_count": 13
        },
        {
            "cell_type": "code",
            "source": [
                "-- lakukan perhitungan forecast \r\n",
                ";WITH bobot as (\r\n",
                "    SELECT 1 as point_ke, 0.25 as bobot \r\n",
                "    UNION ALL \r\n",
                "    SELECT 2 as point_ke, 0.25 as bobot\r\n",
                "    UNION ALL\r\n",
                "    SELECT 3 as point_ke, 0.25 as bobot\r\n",
                "    UNION ALL \r\n",
                "    SELECT 4 as point_ke, 0.20 as bobot\r\n",
                "    UNION ALL \r\n",
                "    SELECT 5 as point_ke, 0.05 as bobot\r\n",
                "), data_final as (\r\n",
                "\r\n",
                "    SELECT *\r\n",
                "    FROM (\r\n",
                "        SELECT ROW_NUMBER() over(order by ID desc) as rn,data\r\n",
                "        FROM data_timeseries\r\n",
                "    ) a\r\n",
                "    WHERE rn <= 5\r\n",
                "), nilai_terbobot  as(\r\n",
                "    SELECT a.rn,a.data,b.bobot,a.data * b.bobot as nilai_terbobot\r\n",
                "    FROM data_final a \r\n",
                "    JOIN bobot b ON a.rn = b.point_ke\r\n",
                ")\r\n",
                "SELECT sum(nilai_terbobot) as nilai_forecast\r\n",
                "FROM nilai_terbobot"
            ],
            "metadata": {
                "azdata_cell_guid": "1fcc3606-846d-45a7-8c19-c6da3e2d5f5c"
            },
            "outputs": [
                {
                    "output_type": "display_data",
                    "data": {
                        "text/html": "(1 row affected)"
                    },
                    "metadata": {}
                },
                {
                    "output_type": "display_data",
                    "data": {
                        "text/html": "Total execution time: 00:00:00.010"
                    },
                    "metadata": {}
                },
                {
                    "output_type": "execute_result",
                    "metadata": {},
                    "execution_count": 14,
                    "data": {
                        "application/vnd.dataresource+json": {
                            "schema": {
                                "fields": [
                                    {
                                        "name": "nilai_forecast"
                                    }
                                ]
                            },
                            "data": [
                                {
                                    "0": "9.25"
                                }
                            ]
                        },
                        "text/html": [
                            "<table>",
                            "<tr><th>nilai_forecast</th></tr>",
                            "<tr><td>9.25</td></tr>",
                            "</table>"
                        ]
                    }
                }
            ],
            "execution_count": 14
        },
        {
            "cell_type": "markdown",
            "source": [
                "**Metode exponential smoothing**\n",
                "\n",
                "metode ini melakukan pembobotan pada masing - masing data namun dengan bobot yang semakin menurun \n",
                "\n",
                "penurunan pembobotan ini  secara exponential .\n",
                "\n",
                "misalnya kita akan memiliki bobot awal (_smooting factor_) : 0.9 \n",
                "\n",
                "maka bobot pada masing2  point (dari yang terakhir ke yang paling awal)  adalah :  0.91, 0.92, 0.93, dst..\n",
                "\n",
                "namun akan ada masalah yang akan terjadi yaitu , jika kita menjumlahkan semua bobotnya , maka bobotnya lebih dari 1 \n",
                "\n",
                "untuk mengatasi masalah ini , kita dapat menggunakan rumus :\n",
                "\n",
                "prediksi\\[x\\] = SF \\* aktual\\[x\\] + (1 - SF) \\* prediksi\\[x-1\\]\n",
                "\n",
                "dengan SF adalah _smoothing factor_"
            ],
            "metadata": {
                "azdata_cell_guid": "8c9484e8-c8f4-4c29-8353-9d1cc91e4153"
            },
            "attachments": {}
        },
        {
            "cell_type": "code",
            "source": [
                "-- dapatkan list data \r\n",
                "DECLARE @sf float;\r\n",
                "SET @sf = 0.9;\r\n",
                "SELECT *\r\n",
                "        , CASE \r\n",
                "            WHEN data_n IS NULL THEN data_a \r\n",
                "            WHEN data_n IS NOT NULL THEN @sf * data_a + (1 - @sf) * data_n\r\n",
                "          END as forecast\r\n",
                "FROM (\r\n",
                "    SELECT a.id,a.data as data_a,b.data as data_n\r\n",
                "    FROM data_timeseries a\r\n",
                "    LEFT JOIN data_timeseries b ON a.id = (b.id+1)\r\n",
                ") a;"
            ],
            "metadata": {
                "azdata_cell_guid": "59da5484-b74e-479f-b29f-bc0a38732117"
            },
            "outputs": [
                {
                    "output_type": "display_data",
                    "data": {
                        "text/html": "(7 rows affected)"
                    },
                    "metadata": {}
                },
                {
                    "output_type": "display_data",
                    "data": {
                        "text/html": "Total execution time: 00:00:00.010"
                    },
                    "metadata": {}
                },
                {
                    "output_type": "execute_result",
                    "metadata": {},
                    "execution_count": 25,
                    "data": {
                        "application/vnd.dataresource+json": {
                            "schema": {
                                "fields": [
                                    {
                                        "name": "id"
                                    },
                                    {
                                        "name": "data_a"
                                    },
                                    {
                                        "name": "data_n"
                                    },
                                    {
                                        "name": "forecast"
                                    }
                                ]
                            },
                            "data": [
                                {
                                    "0": "1",
                                    "1": "3",
                                    "2": "NULL",
                                    "3": "3"
                                },
                                {
                                    "0": "2",
                                    "1": "10",
                                    "2": "3",
                                    "3": "9,3"
                                },
                                {
                                    "0": "3",
                                    "1": "15",
                                    "2": "10",
                                    "3": "14,5"
                                },
                                {
                                    "0": "4",
                                    "1": "20",
                                    "2": "15",
                                    "3": "19,5"
                                },
                                {
                                    "0": "5",
                                    "1": "3",
                                    "2": "20",
                                    "3": "4,699999999999999"
                                },
                                {
                                    "0": "6",
                                    "1": "5",
                                    "2": "3",
                                    "3": "4,8"
                                },
                                {
                                    "0": "7",
                                    "1": "10",
                                    "2": "5",
                                    "3": "9,5"
                                }
                            ]
                        },
                        "text/html": [
                            "<table>",
                            "<tr><th>id</th><th>data_a</th><th>data_n</th><th>forecast</th></tr>",
                            "<tr><td>1</td><td>3</td><td>NULL</td><td>3</td></tr>",
                            "<tr><td>2</td><td>10</td><td>3</td><td>9,3</td></tr>",
                            "<tr><td>3</td><td>15</td><td>10</td><td>14,5</td></tr>",
                            "<tr><td>4</td><td>20</td><td>15</td><td>19,5</td></tr>",
                            "<tr><td>5</td><td>3</td><td>20</td><td>4,699999999999999</td></tr>",
                            "<tr><td>6</td><td>5</td><td>3</td><td>4,8</td></tr>",
                            "<tr><td>7</td><td>10</td><td>5</td><td>9,5</td></tr>",
                            "</table>"
                        ]
                    }
                }
            ],
            "execution_count": 25
        },
        {
            "cell_type": "markdown",
            "source": [
                "dengan SF 0.9 kita dapat lihat bahwa prediksi sangat mendekati data aktual.\n",
                "\n",
                "untuk mendapatkan prediksi pada data yang belum ada data aktualnya dapat kita hitung dengan rumus : \n",
                "\n",
                "  \n",
                "\n",
                "prediksi\\[x+1\\] = prediksi\\[x\\] + SF \\* (aktual\\[x\\] - prediksi\\[x\\])"
            ],
            "metadata": {
                "azdata_cell_guid": "c41d07a7-7650-4f9f-b1f0-9945af3e39c1"
            },
            "attachments": {}
        },
        {
            "cell_type": "code",
            "source": [
                "DECLARE @sf float;\r\n",
                "SET @sf = 0.9;\r\n",
                "\r\n",
                "SELECT forecast + @sf * (forecast - data_a) as nilai_prediksi\r\n",
                "FROM (\r\n",
                "    SELECT top 1 *\r\n",
                "    FROM (\r\n",
                "        SELECT *\r\n",
                "                , CASE \r\n",
                "                    WHEN data_n IS NULL THEN data_a \r\n",
                "                    WHEN data_n IS NOT NULL THEN @sf * data_a + (1 - @sf) * data_n\r\n",
                "                END as forecast\r\n",
                "        FROM (\r\n",
                "            SELECT a.id,a.data as data_a,b.data as data_n\r\n",
                "            FROM data_timeseries a\r\n",
                "            LEFT JOIN data_timeseries b ON a.id = (b.id+1)\r\n",
                "        ) a\r\n",
                "    ) a\r\n",
                "    ORDER BY id DESC\r\n",
                ") a ;"
            ],
            "metadata": {
                "azdata_cell_guid": "3511dc55-3eea-4810-872b-b36c427473d3"
            },
            "outputs": [
                {
                    "output_type": "display_data",
                    "data": {
                        "text/html": "(1 row affected)"
                    },
                    "metadata": {}
                },
                {
                    "output_type": "display_data",
                    "data": {
                        "text/html": "Total execution time: 00:00:00.014"
                    },
                    "metadata": {}
                },
                {
                    "output_type": "execute_result",
                    "metadata": {},
                    "execution_count": 30,
                    "data": {
                        "application/vnd.dataresource+json": {
                            "schema": {
                                "fields": [
                                    {
                                        "name": "nilai_prediksi"
                                    }
                                ]
                            },
                            "data": [
                                {
                                    "0": "9,05"
                                }
                            ]
                        },
                        "text/html": [
                            "<table>",
                            "<tr><th>nilai_prediksi</th></tr>",
                            "<tr><td>9,05</td></tr>",
                            "</table>"
                        ]
                    }
                }
            ],
            "execution_count": 30
        }
    ]
}